{
 "cells": [
  {
   "cell_type": "markdown",
   "metadata": {},
   "source": [
    "# Predykcja z użyciem kolumny `RESIGN_DATE`\n",
    "\n",
    "## Importy bibliotek"
   ]
  },
  {
   "cell_type": "code",
   "execution_count": null,
   "metadata": {},
   "outputs": [],
   "source": [
    "from datetime import datetime\n",
    "\n",
    "import pandas as pd\n",
    "import numpy as np\n",
    "\n",
    "import matplotlib.pylab as plt\n",
    "from sklearn.model_selection import train_test_split\n",
    "from sklearn.metrics import classification_report,confusion_matrix\n",
    "from sklearn.cluster import KMeans\n",
    "import xgboost as xgb\n",
    "from kneed import KneeLocator"
   ]
  },
  {
   "cell_type": "markdown",
   "metadata": {},
   "source": [
    "## Zczytanie danych z plików csv\n",
    "\n",
    "* Pliki znajdują sie w folderze data i mają nazwy\n",
    "    * PPK_Uczestnicy.csv\n",
    "    * PPK_Pracodawcy.csv\n",
    "* Po zczytaniu operacja merge złaczamy dane tak, że informacja o pracodawcy jest dostepna z poziomu pracownika"
   ]
  },
  {
   "cell_type": "code",
   "execution_count": null,
   "metadata": {},
   "outputs": [],
   "source": [
    "uczestnicy = pd.read_csv('data/PPK_Uczestnicy.csv', sep=';')\n",
    "pracodawcy = pd.read_csv('data/PPK_Pracodawcy.csv',sep=';')\n",
    "\n",
    "df = pd.merge(\n",
    "    uczestnicy,\n",
    "    pracodawcy,\n",
    "    how='left',\n",
    "    left_on='EMPL_ID',\n",
    "    right_on='ID'\n",
    ")"
   ]
  },
  {
   "cell_type": "markdown",
   "metadata": {},
   "source": [
    "## Zmiana kolumnn i początkowe wyczyszczenie DataFrame'u \n",
    "\n",
    "\n",
    "\n",
    "* Kolumna Age ta niestety została obarczona przenikami przez co była błędnie reprezentowana jako typ String, przerabiamy ją na typ int\n",
    "\n",
    "* Drop'owanie niepotrzebnych kolumn które nie będą przydatne\n",
    "\n",
    "* Przerobienie narodowości na mniejszą ilość podgrup, decyzja o przejsciu na wszystkie grupy z iloscia osob mniejsza niz 5000 naleza do jednej narodowsci\n",
    "\n",
    "* Zmiana kolumn kategorycznych na dummy variables - tworzymy nową kolumnę na każdy możliwy output kolumny, porównaj poprzednią i następną komórkę\n",
    "\n",
    "* Znajdowanie `DURATION`, które jest różnicą między data rezygnacji (`RESIGN_DATE`), a data podpisanie (`SIGN_DATE`), typ to int - liczba dni\n",
    "    * ustawiamy także kolumne resigned (bit oznaczający czy ktoś zrezygnował oznaczane jako istnienie `RESIGN_DATE`)"
   ]
  },
  {
   "cell_type": "code",
   "execution_count": null,
   "metadata": {},
   "outputs": [],
   "source": [
    "def to_int(age):\n",
    "    age = age[:age.find(\",\")]\n",
    "    return int(age)\n",
    "\n",
    "df[\"AGE\"] = df[\"AGE\"].apply(to_int)"
   ]
  },
  {
   "cell_type": "code",
   "execution_count": null,
   "metadata": {},
   "outputs": [],
   "source": [
    "df.drop(columns=['MEMBER_ID','EMPL_ID', 'WORK_START', 'WORK_STOP', 'LOGICAL_FACTOR_1','LOGICAL_FACTOR_2','ID','PKD_CODE','PPK_BANK','NUMERICAL_VALUE'], inplace=True)\n",
    "df.drop(columns=[\"CREATED_AT\", \"UOZ_START_DATE\", \"UOP_SIGN_DATE\", 'REGION_CODE'], inplace=True)"
   ]
  },
  {
   "cell_type": "code",
   "execution_count": null,
   "metadata": {},
   "outputs": [],
   "source": [
    "# Grouping other nationalities into one category '0'\n",
    "unique_nat = df['NATIONALITY'].unique()\n",
    "for val in unique_nat:\n",
    "    suma = ( df['NATIONALITY'].values == val ).sum()\n",
    "    if suma < 5000:\n",
    "        df.loc[df.NATIONALITY == val, 'NATIONALITY'] = 0"
   ]
  },
  {
   "cell_type": "code",
   "execution_count": null,
   "metadata": {},
   "outputs": [],
   "source": [
    "df = pd.get_dummies(df, columns = ['SEX', 'COMPANY_SIZE', 'COMPANY_TYPE', 'VOIVODESHIP', 'NATIONALITY','PPK_STAGE'], \n",
    "                         prefix = ['SEX', 'COMPANY_SIZE', 'COMPANY_TYPE', 'VOIVODESHIP', 'NATIONALITY','PPK_STAGE'])"
   ]
  },
  {
   "cell_type": "code",
   "execution_count": null,
   "metadata": {
    "scrolled": true
   },
   "outputs": [],
   "source": [
    "def find_period(data):\n",
    "    start, stop = data\n",
    "    if type(stop) is float:\n",
    "        stop = datetime.now().strftime(\"%Y-%m-%d\")\n",
    "    \n",
    "    start_year, start_month, start_day = map(int, start.split('-'))\n",
    "    stop_year, stop_month, stop_day = map(int, stop.split('-'))\n",
    "    \n",
    "    days = (stop_year - start_year)*365\n",
    "    days += (stop_month - start_month)*30 if stop_month > start_month else (start_month - stop_month)*30\n",
    "    days += stop_day - start_day if stop_day > start_day else start_day - stop_day\n",
    "    \n",
    "    return days\n",
    "\n",
    "\n",
    "df['DURATION'] = list(zip(df['SIGN_DATE'], df['RESIGN_DATE']))\n",
    "\n",
    "df['DURATION'] = df['DURATION'].apply(find_period) \n",
    "\n",
    "df['RESIGNED'] = ~df['RESIGN_DATE'].isna()\n",
    "\n",
    "df.drop(columns = ['SIGN_DATE', 'RESIGN_DATE'], inplace=True)"
   ]
  },
  {
   "cell_type": "markdown",
   "metadata": {},
   "source": [
    "## Wyrzucenie niepasujących danych oraz TEST/TRAIN split"
   ]
  },
  {
   "cell_type": "code",
   "execution_count": null,
   "metadata": {},
   "outputs": [],
   "source": [
    "# ta kolumna to w ogole jest 100% skorelowana z targetem, także usuwamy\n",
    "df.drop(columns=[\"RESIGNED\"], inplace = True)"
   ]
  },
  {
   "cell_type": "code",
   "execution_count": null,
   "metadata": {},
   "outputs": [],
   "source": [
    "df.columns\n"
   ]
  },
  {
   "cell_type": "markdown",
   "metadata": {},
   "source": [
    "## Klasteryzacja wieku\n",
    "\n",
    "Z korelacją `IS_SUSPENDED`, nie sam podzial wieku\n",
    "\n",
    "Zaczynamy od sprawdzenia jaka ilosc klastrów najlepiej się sprawdzi"
   ]
  },
  {
   "cell_type": "code",
   "execution_count": null,
   "metadata": {},
   "outputs": [],
   "source": [
    "dataset = df[['IS_SUSPENDED', 'AGE']]\n",
    "\n",
    "scaled_dataset = dataset.values\n",
    "\n",
    "kmeans_kwargs = {\n",
    "        \"init\": \"random\",\n",
    "        \"n_init\": 10,\n",
    "        \"max_iter\": 300,\n",
    "        \"random_state\": 42,\n",
    "    }\n",
    "   \n",
    "# A list holds the SSE values for each k\n",
    "sse = []\n",
    "for k in range(1, 11):\n",
    "    kmeans = KMeans(n_clusters=k, **kmeans_kwargs)\n",
    "    kmeans.fit(scaled_dataset)\n",
    "    sse.append(kmeans.inertia_)\n",
    "\n",
    "plt.style.use('fivethirtyeight')\n",
    "plt.plot(range(1, 11), sse)\n",
    "plt.xticks(range(1, 11))\n",
    "plt.xlabel(\"n_of_clusters\")\n",
    "plt.ylabel(\"SSE\")\n",
    "plt.show()\n",
    "\n",
    "\n",
    "kl = KneeLocator(range(1, 11), sse, curve=\"convex\", direction=\"decreasing\")\n",
    "n_of_clusters = kl.elbow\n",
    "\n",
    "kmeans = KMeans(\n",
    "    init='random',\n",
    "    n_clusters = n_of_clusters,\n",
    "    n_init=50,\n",
    "    max_iter=500,\n",
    "    random_state=42\n",
    "    )\n",
    "\n",
    "kmeans.fit(scaled_dataset)\n",
    "\n",
    "df['AGE_CL'] = kmeans.predict(df[[\"IS_SUSPENDED\", \"AGE\"]])\n",
    "\n",
    "df.drop(columns=[\"AGE\"], inplace=True)"
   ]
  },
  {
   "cell_type": "markdown",
   "metadata": {},
   "source": [
    "## Budowanie modelu"
   ]
  },
  {
   "cell_type": "code",
   "execution_count": null,
   "metadata": {},
   "outputs": [],
   "source": [
    "#POSITIVE = SUSPENDED\n",
    "\n",
    "X_train, X_test, y_train, y_test = train_test_split(df[df.columns[1:]], df[\"IS_SUSPENDED\"], stratify=df[\"IS_SUSPENDED\"], test_size=0.10, random_state=56)\n",
    "\n",
    "#building the model\n",
    "xgb_model = xgb.XGBClassifier(max_depth=5, learning_rate=0.08, objective= 'binary:logistic',n_jobs=-1).fit(X_train, y_train)\n",
    "\n",
    "print('Accuracy of XGB classifier on training set: {:.2f}'\n",
    "       .format(xgb_model.score(X_train, y_train)))\n",
    "print('Accuracy of XGB classifier on test set: {:.2f}'\n",
    "       .format(xgb_model.score(X_test[X_train.columns], y_test)))"
   ]
  },
  {
   "cell_type": "code",
   "execution_count": null,
   "metadata": {},
   "outputs": [],
   "source": [
    "y_pred = xgb_model.predict(X_test)"
   ]
  },
  {
   "cell_type": "code",
   "execution_count": null,
   "metadata": {},
   "outputs": [],
   "source": [
    "print(classification_report(y_test, y_pred))"
   ]
  },
  {
   "cell_type": "code",
   "execution_count": null,
   "metadata": {},
   "outputs": [],
   "source": [
    "from xgboost import plot_importance\n",
    "fig, ax = plt.subplots(figsize=(10,8))\n",
    "plot_importance(xgb_model, ax=ax)"
   ]
  },
  {
   "cell_type": "code",
   "execution_count": null,
   "metadata": {},
   "outputs": [],
   "source": [
    "df['proba'] = xgb_model.predict_proba(df[X_train.columns])[:,1]\n",
    "df[['AGE','proba']].head(50)"
   ]
  },
  {
   "cell_type": "markdown",
   "metadata": {},
   "source": [
    "## Dane testowe"
   ]
  },
  {
   "cell_type": "code",
   "execution_count": null,
   "metadata": {},
   "outputs": [],
   "source": [
    "testowe = pd.read_csv('data/PPK_Uczestnicy_TEST.csv',sep=';')"
   ]
  },
  {
   "cell_type": "code",
   "execution_count": null,
   "metadata": {},
   "outputs": [],
   "source": [
    "testowe.columns"
   ]
  },
  {
   "cell_type": "code",
   "execution_count": null,
   "metadata": {},
   "outputs": [],
   "source": [
    "testowe[\"RESIGN_DATE\"].value_counts()"
   ]
  },
  {
   "cell_type": "code",
   "execution_count": null,
   "metadata": {},
   "outputs": [],
   "source": [
    "testowe[\"RESIGN_DATE\"].isna().sum()"
   ]
  }
 ],
 "metadata": {
  "kernelspec": {
   "display_name": "Python 3",
   "language": "python",
   "name": "python3"
  },
  "language_info": {
   "codemirror_mode": {
    "name": "ipython",
    "version": 3
   },
   "file_extension": ".py",
   "mimetype": "text/x-python",
   "name": "python",
   "nbconvert_exporter": "python",
   "pygments_lexer": "ipython3",
   "version": "3.8.3"
  }
 },
 "nbformat": 4,
 "nbformat_minor": 4
}
